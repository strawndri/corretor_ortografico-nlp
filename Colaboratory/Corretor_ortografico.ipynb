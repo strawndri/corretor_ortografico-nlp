{
  "nbformat": 4,
  "nbformat_minor": 0,
  "metadata": {
    "colab": {
      "name": "Corretor_ortografico.ipynb",
      "provenance": [],
      "authorship_tag": "ABX9TyOQMvke5yo8eYcLiZturE7m",
      "include_colab_link": true
    },
    "kernelspec": {
      "name": "python3",
      "display_name": "Python 3"
    },
    "language_info": {
      "name": "python"
    }
  },
  "cells": [
    {
      "cell_type": "markdown",
      "metadata": {
        "id": "view-in-github",
        "colab_type": "text"
      },
      "source": [
        "<a href=\"https://colab.research.google.com/github/strawndri/corretor_ortografico-nlp/blob/main/Colaboratory/Corretor_ortografico.ipynb\" target=\"_parent\"><img src=\"https://colab.research.google.com/assets/colab-badge.svg\" alt=\"Open In Colab\"/></a>"
      ]
    },
    {
      "cell_type": "markdown",
      "metadata": {
        "id": "w69e3gSa-N_o"
      },
      "source": [
        "# NLP - Processamento de Linguagem Natural\n",
        "\n",
        "A **Processamento de Linguagem Natural (NLP, em inglês)** está relacionada à Inteligência Antificial. Este mecanismo, portanto, atua na conexão entre o ser humano e a máquina.\n",
        "\n",
        "A interpretação de textos realizada por pessoas, é de certa forma, simples. No entanto, quando este papel cabe à máquina, a situação torna-se mais complicada, uma vez que ela precisa \"compreender\" inúmeros peculiaridades linguísticas, como coensão, coêrencia, morfologia, semântica, sintaxe, etc.\n",
        "\n",
        "Alguns exemplos de atividades comuns que utlizam o NLP são: tradução automática, corretor ortográfico, autocomplete (realizado pelo Google, por exemplo), chatbots..."
      ]
    },
    {
      "cell_type": "markdown",
      "metadata": {
        "id": "G5jsL5qlcdEW"
      },
      "source": [
        "# Importações"
      ]
    },
    {
      "cell_type": "code",
      "metadata": {
        "id": "EqXFSby-chAj",
        "outputId": "6daf7b5d-560d-4373-a58a-61f92c4853d3",
        "colab": {
          "base_uri": "https://localhost:8080/"
        }
      },
      "source": [
        "import nltk\n",
        "nltk.download('punkt')"
      ],
      "execution_count": 11,
      "outputs": [
        {
          "output_type": "stream",
          "name": "stdout",
          "text": [
            "[nltk_data] Downloading package punkt to /root/nltk_data...\n",
            "[nltk_data]   Package punkt is already up-to-date!\n"
          ]
        },
        {
          "output_type": "execute_result",
          "data": {
            "text/plain": [
              "True"
            ]
          },
          "metadata": {},
          "execution_count": 11
        }
      ]
    },
    {
      "cell_type": "markdown",
      "metadata": {
        "id": "m5JsbWliEYtr"
      },
      "source": [
        "# Importando um Corpus Textual\n",
        "Obs: Corpus significa, em NLP, uma coleção de documentos"
      ]
    },
    {
      "cell_type": "code",
      "metadata": {
        "colab": {
          "base_uri": "https://localhost:8080/"
        },
        "id": "K5Ybtyvq-MEo",
        "outputId": "9709530d-b7d6-4c01-ccf2-6131a9751463"
      },
      "source": [
        "with open('artigos.txt', 'r') as f:\n",
        "  artigos = f.read()\n",
        "\n",
        "print(artigos[:500])"
      ],
      "execution_count": 12,
      "outputs": [
        {
          "output_type": "stream",
          "name": "stdout",
          "text": [
            "\n",
            "\n",
            "\n",
            "imagem \n",
            "\n",
            "Temos a seguinte classe que representa um usuário no nosso sistema:\n",
            "\n",
            "java\n",
            "\n",
            "Para salvar um novo usuário, várias validações são feitas, como por exemplo: Ver se o nome só contém letras, [**o CPF só números**] e ver se o usuário possui no mínimo 18 anos. Veja o método que faz essa validação:\n",
            "\n",
            "java \n",
            "\n",
            "Suponha agora que eu tenha outra classe, a classe `Produto`, que contém um atributo nome e eu quero fazer a mesma validação que fiz para o nome do usuário: Ver se só contém letras. E aí? Vou\n"
          ]
        }
      ]
    },
    {
      "cell_type": "markdown",
      "metadata": {
        "id": "Sph_FqBJZm-3"
      },
      "source": [
        "# Tokens\n",
        "\n",
        "Os **tokens** são uma sequência de caracteres (podem conter letras, números, pontuações, etc) separados por um limitador, que pode ser tanto um espaço em branco, como uma quebra de linha ou determinada pontuação).\n",
        "\n",
        "**Tozenização** é um processo que divide strings em partes menores."
      ]
    },
    {
      "cell_type": "code",
      "metadata": {
        "id": "GAlLvXkcE7sW",
        "colab": {
          "base_uri": "https://localhost:8080/"
        },
        "outputId": "33e027bf-8c67-495e-c240-4c7aa23a0d3d"
      },
      "source": [
        "tokens = artigos.split()\n",
        "print(f'Quantidade de tokens: {len(tokens)}')"
      ],
      "execution_count": 16,
      "outputs": [
        {
          "output_type": "stream",
          "name": "stdout",
          "text": [
            "Quantidade de tokens: 416903\n"
          ]
        }
      ]
    },
    {
      "cell_type": "code",
      "metadata": {
        "id": "xzxg5RmMa5tz"
      },
      "source": [
        "tokens_2 = nltk.tokenize.word_tokenize(artigos)"
      ],
      "execution_count": 25,
      "outputs": []
    },
    {
      "cell_type": "code",
      "metadata": {
        "id": "Ufvn8v9Pc5p2",
        "outputId": "4bd9f180-6e79-4e86-c65a-0bdbbbc0c922",
        "colab": {
          "base_uri": "https://localhost:8080/"
        }
      },
      "source": [
        "print(tokens_2[:50])"
      ],
      "execution_count": 27,
      "outputs": [
        {
          "output_type": "stream",
          "name": "stdout",
          "text": [
            "['imagem', 'Temos', 'a', 'seguinte', 'classe', 'que', 'representa', 'um', 'usuário', 'no', 'nosso', 'sistema', ':', 'java', 'Para', 'salvar', 'um', 'novo', 'usuário', ',', 'várias', 'validações', 'são', 'feitas', ',', 'como', 'por', 'exemplo', ':', 'Ver', 'se', 'o', 'nome', 'só', 'contém', 'letras', ',', '[', '**o', 'CPF', 'só', 'números**', ']', 'e', 'ver', 'se', 'o', 'usuário', 'possui', 'no']\n"
          ]
        }
      ]
    },
    {
      "cell_type": "code",
      "metadata": {
        "id": "HNHvUuJZdrwG",
        "outputId": "0ca767a7-11c1-43e8-b00c-08128b19dfca",
        "colab": {
          "base_uri": "https://localhost:8080/"
        }
      },
      "source": [
        "def separa_palavras(lista_tokens):\n",
        "  lista_palavras = []\n",
        "\n",
        "  for item in lista_tokens:\n",
        "    if item.isalpha():\n",
        "      lista_palavras.append(item)\n",
        "\n",
        "  return lista_palavras    \n",
        "\n",
        "palavras = separa_palavras(tokens_2)\n",
        "print(f'Total de palavras: {len(palavras)}')"
      ],
      "execution_count": 30,
      "outputs": [
        {
          "output_type": "stream",
          "name": "stdout",
          "text": [
            "Total de palavras: 393914\n"
          ]
        }
      ]
    },
    {
      "cell_type": "code",
      "metadata": {
        "id": "vC9UlJEMgE9j"
      },
      "source": [
        ""
      ],
      "execution_count": null,
      "outputs": []
    }
  ]
}