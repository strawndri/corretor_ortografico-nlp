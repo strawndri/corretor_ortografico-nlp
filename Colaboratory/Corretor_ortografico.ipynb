{
  "nbformat": 4,
  "nbformat_minor": 0,
  "metadata": {
    "colab": {
      "name": "Corretor_ortografico.ipynb",
      "provenance": [],
      "authorship_tag": "ABX9TyOSSe4uZPBZbqDoTOyedzYY",
      "include_colab_link": true
    },
    "kernelspec": {
      "name": "python3",
      "display_name": "Python 3"
    },
    "language_info": {
      "name": "python"
    }
  },
  "cells": [
    {
      "cell_type": "markdown",
      "metadata": {
        "id": "view-in-github",
        "colab_type": "text"
      },
      "source": [
        "<a href=\"https://colab.research.google.com/github/strawndri/corretor_ortografico-nlp/blob/main/Colaboratory/Corretor_ortografico.ipynb\" target=\"_parent\"><img src=\"https://colab.research.google.com/assets/colab-badge.svg\" alt=\"Open In Colab\"/></a>"
      ]
    },
    {
      "cell_type": "markdown",
      "metadata": {
        "id": "w69e3gSa-N_o"
      },
      "source": [
        "# NLP - Processamento de Linguagem Natural\n",
        "\n",
        "A **Processamento de Linguagem Natural (NLP, em inglês)** está relacionada à Inteligência Antificial. Este mecanismo, portanto, atua na conexão entre o ser humano e a máquina.\n",
        "\n",
        "A interpretação de textos realizada por pessoas, é de certa forma, simples. No entanto, quando este papel cabe à máquina, a situação torna-se mais complicada, uma vez que ela precisa \"compreender\" inúmeros peculiaridades linguísticas, como coensão, coêrencia, morfologia, semântica, sintaxe, etc.\n",
        "\n",
        "Alguns exemplos de atividades comuns que utlizam o NLP são: tradução automática, corretor ortográfico, autocomplete (realizado pelo Google, por exemplo), chatbots..."
      ]
    },
    {
      "cell_type": "markdown",
      "metadata": {
        "id": "G5jsL5qlcdEW"
      },
      "source": [
        "# Importações"
      ]
    },
    {
      "cell_type": "code",
      "metadata": {
        "colab": {
          "base_uri": "https://localhost:8080/"
        },
        "id": "EqXFSby-chAj",
        "outputId": "d9ebaaca-caac-434e-8728-75bc235cb281"
      },
      "source": [
        "import nltk\n",
        "nltk.download('punkt')"
      ],
      "execution_count": 1,
      "outputs": [
        {
          "output_type": "stream",
          "name": "stdout",
          "text": [
            "[nltk_data] Downloading package punkt to /root/nltk_data...\n",
            "[nltk_data]   Unzipping tokenizers/punkt.zip.\n"
          ]
        },
        {
          "output_type": "execute_result",
          "data": {
            "text/plain": [
              "True"
            ]
          },
          "metadata": {},
          "execution_count": 1
        }
      ]
    },
    {
      "cell_type": "markdown",
      "metadata": {
        "id": "m5JsbWliEYtr"
      },
      "source": [
        "# Importando um Corpus Textual\n",
        "Obs: Corpus significa, em NLP, uma coleção de documentos"
      ]
    },
    {
      "cell_type": "code",
      "metadata": {
        "colab": {
          "base_uri": "https://localhost:8080/"
        },
        "id": "K5Ybtyvq-MEo",
        "outputId": "9d3c415a-9d78-41e0-b5f4-a728c2ab9593"
      },
      "source": [
        "with open('artigos.txt', 'r') as f:\n",
        "  artigos = f.read()\n",
        "\n",
        "print(artigos[:500])"
      ],
      "execution_count": 2,
      "outputs": [
        {
          "output_type": "stream",
          "name": "stdout",
          "text": [
            "\n",
            "\n",
            "\n",
            "imagem \n",
            "\n",
            "Temos a seguinte classe que representa um usuário no nosso sistema:\n",
            "\n",
            "java\n",
            "\n",
            "Para salvar um novo usuário, várias validações são feitas, como por exemplo: Ver se o nome só contém letras, [**o CPF só números**] e ver se o usuário possui no mínimo 18 anos. Veja o método que faz essa validação:\n",
            "\n",
            "java \n",
            "\n",
            "Suponha agora que eu tenha outra classe, a classe `Produto`, que contém um atributo nome e eu quero fazer a mesma validação que fiz para o nome do usuário: Ver se só contém letras. E aí? Vou\n"
          ]
        }
      ]
    },
    {
      "cell_type": "markdown",
      "metadata": {
        "id": "Sph_FqBJZm-3"
      },
      "source": [
        "# Tokens\n",
        "\n",
        "Os **tokens** são uma sequência de caracteres (podem conter letras, números, pontuações, etc) separados por um limitador, que pode ser tanto um espaço em branco, como uma quebra de linha ou determinada pontuação).\n",
        "\n",
        "**Tozenização** é um processo que divide strings em partes menores."
      ]
    },
    {
      "cell_type": "code",
      "metadata": {
        "id": "GAlLvXkcE7sW",
        "colab": {
          "base_uri": "https://localhost:8080/"
        },
        "outputId": "2ce1419e-8dad-4e22-b03b-c742b6a03607"
      },
      "source": [
        "tokens = artigos.split()\n",
        "print(f'Quantidade de tokens: {len(tokens)}')"
      ],
      "execution_count": 3,
      "outputs": [
        {
          "output_type": "stream",
          "name": "stdout",
          "text": [
            "Quantidade de tokens: 416903\n"
          ]
        }
      ]
    },
    {
      "cell_type": "code",
      "metadata": {
        "id": "xzxg5RmMa5tz"
      },
      "source": [
        "tokens_2 = nltk.tokenize.word_tokenize(artigos)"
      ],
      "execution_count": 4,
      "outputs": []
    },
    {
      "cell_type": "code",
      "metadata": {
        "colab": {
          "base_uri": "https://localhost:8080/"
        },
        "id": "Ufvn8v9Pc5p2",
        "outputId": "d5d89b7b-99c8-444b-f1ae-df2941aba9df"
      },
      "source": [
        "print(tokens_2[:50])"
      ],
      "execution_count": 5,
      "outputs": [
        {
          "output_type": "stream",
          "name": "stdout",
          "text": [
            "['imagem', 'Temos', 'a', 'seguinte', 'classe', 'que', 'representa', 'um', 'usuário', 'no', 'nosso', 'sistema', ':', 'java', 'Para', 'salvar', 'um', 'novo', 'usuário', ',', 'várias', 'validações', 'são', 'feitas', ',', 'como', 'por', 'exemplo', ':', 'Ver', 'se', 'o', 'nome', 'só', 'contém', 'letras', ',', '[', '**o', 'CPF', 'só', 'números**', ']', 'e', 'ver', 'se', 'o', 'usuário', 'possui', 'no']\n"
          ]
        }
      ]
    },
    {
      "cell_type": "code",
      "metadata": {
        "colab": {
          "base_uri": "https://localhost:8080/"
        },
        "id": "HNHvUuJZdrwG",
        "outputId": "70d60e82-bdfa-4162-da38-42478c87bcf0"
      },
      "source": [
        "def separa_palavras(lista_tokens):\n",
        "  lista_palavras = []\n",
        "\n",
        "  for item in lista_tokens:\n",
        "    if item.isalpha():\n",
        "      lista_palavras.append(item)\n",
        "\n",
        "  return lista_palavras    \n",
        "\n",
        "palavras = separa_palavras(tokens_2)\n",
        "print(f'Total de palavras: {len(palavras)}')"
      ],
      "execution_count": 6,
      "outputs": [
        {
          "output_type": "stream",
          "name": "stdout",
          "text": [
            "Total de palavras: 393914\n"
          ]
        }
      ]
    },
    {
      "cell_type": "markdown",
      "metadata": {
        "id": "ouJha4SMhdcE"
      },
      "source": [
        "# Normalização e Tipos de Palavras"
      ]
    },
    {
      "cell_type": "code",
      "metadata": {
        "colab": {
          "base_uri": "https://localhost:8080/"
        },
        "id": "vC9UlJEMgE9j",
        "outputId": "56435da3-7a1b-480d-eeb6-9202f08b463f"
      },
      "source": [
        "def normaliza_palavras(lista):\n",
        "  lista_normalizada = []\n",
        "\n",
        "  for item in lista:\n",
        "    lista_normalizada.append(item.lower())\n",
        "\n",
        "  return lista_normalizada\n",
        "\n",
        "lista_normalizada = normaliza_palavras(palavras)\n",
        "print(lista_normalizada[:10])"
      ],
      "execution_count": 7,
      "outputs": [
        {
          "output_type": "stream",
          "name": "stdout",
          "text": [
            "['imagem', 'temos', 'a', 'seguinte', 'classe', 'que', 'representa', 'um', 'usuário', 'no']\n"
          ]
        }
      ]
    },
    {
      "cell_type": "code",
      "metadata": {
        "id": "tfXmW-f8ih5o",
        "colab": {
          "base_uri": "https://localhost:8080/"
        },
        "outputId": "eadbf8b3-228a-4f1a-822c-acfbb55957e5"
      },
      "source": [
        "total_palavras = set(lista_normalizada)\n",
        "print(f'Total de palavras diferentes: {len(total_palavras)}.')"
      ],
      "execution_count": 8,
      "outputs": [
        {
          "output_type": "stream",
          "name": "stdout",
          "text": [
            "Total de palavras diferentes: 17652.\n"
          ]
        }
      ]
    },
    {
      "cell_type": "markdown",
      "metadata": {
        "id": "uXizU4gLEMuj"
      },
      "source": [
        "# Desenvolvendo o Corretor"
      ]
    },
    {
      "cell_type": "code",
      "metadata": {
        "id": "17ND_CyujupB"
      },
      "source": [
        "palavra_exemplo = 'lgica'\n",
        "\n",
        "# função que insere as possíveis palavras\n",
        "def insere_palavras(letras):\n",
        "\n",
        "  novas_palavras = []\n",
        "  conjunto_letras = 'abcdefghijklmnopqrstuvwxyzàáâãèéêìíîòóôõùúûç'\n",
        "\n",
        "  for left, right in letras:\n",
        "    for l in conjunto_letras:\n",
        "      novas_palavras.append(left + l + right)\n",
        "  \n",
        "  return novas_palavras\n",
        "\n",
        "# função que constrói os trechos de uma palvra\n",
        "def gerador_palavras(palavra):\n",
        "\n",
        "  letras = []\n",
        "\n",
        "  for i in range(len(palavra) + 1):\n",
        "    letras.append(((palavra[:i]), (palavra[i:])))\n",
        "\n",
        "  palavras_geradas = insere_palavras(letras)\n",
        "  return palavras_geradas"
      ],
      "execution_count": 29,
      "outputs": []
    },
    {
      "cell_type": "code",
      "metadata": {
        "id": "uDJ1ch_hH1ew",
        "outputId": "c953a3d2-a11e-4b4a-e83d-5e73af771ffd",
        "colab": {
          "base_uri": "https://localhost:8080/",
          "height": 35
        }
      },
      "source": [
        "# função que atua como corretor ortográfico\n",
        "def corretor(palavra):\n",
        "  palavras_geradas = gerador_palavras(palavra_exemplo)\n",
        "  palavra_correta = max(palavras_geradas, key=propabilidade)\n",
        "  return palavra_correta\n",
        "\n",
        "\n",
        "freq = nltk.FreqDist(lista_normalizada)\n",
        "total_palavras = len(palavras)\n",
        "\n",
        "def propabilidade(palavra_gerada):\n",
        "  probabilidade = freq[palavra_gerada]/total_palavras\n",
        "  return probabilidade\n",
        "\n",
        "corretor(palavra_exemplo)"
      ],
      "execution_count": 30,
      "outputs": [
        {
          "output_type": "execute_result",
          "data": {
            "application/vnd.google.colaboratory.intrinsic+json": {
              "type": "string"
            },
            "text/plain": [
              "'lógica'"
            ]
          },
          "metadata": {},
          "execution_count": 30
        }
      ]
    },
    {
      "cell_type": "code",
      "metadata": {
        "id": "DJ4oRsTbP0Pi"
      },
      "source": [
        ""
      ],
      "execution_count": null,
      "outputs": []
    }
  ]
}