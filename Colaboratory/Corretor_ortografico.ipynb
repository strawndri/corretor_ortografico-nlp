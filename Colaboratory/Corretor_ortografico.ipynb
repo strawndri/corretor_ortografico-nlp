{
  "nbformat": 4,
  "nbformat_minor": 0,
  "metadata": {
    "colab": {
      "name": "Corretor_ortografico.ipynb",
      "provenance": [],
      "authorship_tag": "ABX9TyOmjS4l5Adk2ah4DsQBZsGf",
      "include_colab_link": true
    },
    "kernelspec": {
      "name": "python3",
      "display_name": "Python 3"
    },
    "language_info": {
      "name": "python"
    }
  },
  "cells": [
    {
      "cell_type": "markdown",
      "metadata": {
        "id": "view-in-github",
        "colab_type": "text"
      },
      "source": [
        "<a href=\"https://colab.research.google.com/github/strawndri/corretor_ortografico-nlp/blob/main/Colaboratory/Corretor_ortografico.ipynb\" target=\"_parent\"><img src=\"https://colab.research.google.com/assets/colab-badge.svg\" alt=\"Open In Colab\"/></a>"
      ]
    },
    {
      "cell_type": "markdown",
      "metadata": {
        "id": "w69e3gSa-N_o"
      },
      "source": [
        "# NLP - Processamento de Linguagem Natural\n",
        "\n",
        "A **Processamento de Linguagem Natural (NLP, em inglês)** está relacionada à Inteligência Antificial. Este mecanismo, portanto, atua na conexão entre o ser humano e a máquina.\n",
        "\n",
        "A interpretação de textos realizada por pessoas, é de certa forma, simples. No entanto, quando este papel cabe à máquina, a situação torna-se mais complicada, uma vez que ela precisa \"compreender\" inúmeros peculiaridades linguísticas, como coensão, coêrencia, morfologia, semântica, sintaxe, etc.\n",
        "\n",
        "Alguns exemplos de atividades comuns que utlizam o NLP são: tradução automática, corretor ortográfico, autocomplete (realizado pelo Google, por exemplo), chatbots..."
      ]
    },
    {
      "cell_type": "markdown",
      "metadata": {
        "id": "G5jsL5qlcdEW"
      },
      "source": [
        "# Importações"
      ]
    },
    {
      "cell_type": "code",
      "metadata": {
        "colab": {
          "base_uri": "https://localhost:8080/"
        },
        "id": "EqXFSby-chAj",
        "outputId": "b364bde3-ba6a-4c1d-e645-62b990c8ad9d"
      },
      "source": [
        "import nltk\n",
        "nltk.download('punkt')"
      ],
      "execution_count": 14,
      "outputs": [
        {
          "output_type": "stream",
          "name": "stdout",
          "text": [
            "[nltk_data] Downloading package punkt to /root/nltk_data...\n",
            "[nltk_data]   Package punkt is already up-to-date!\n"
          ]
        },
        {
          "output_type": "execute_result",
          "data": {
            "text/plain": [
              "True"
            ]
          },
          "metadata": {},
          "execution_count": 14
        }
      ]
    },
    {
      "cell_type": "markdown",
      "metadata": {
        "id": "m5JsbWliEYtr"
      },
      "source": [
        "# Importando um Corpus Textual\n",
        "Obs: Corpus significa, em NLP, uma coleção de documentos"
      ]
    },
    {
      "cell_type": "code",
      "metadata": {
        "colab": {
          "base_uri": "https://localhost:8080/"
        },
        "id": "K5Ybtyvq-MEo",
        "outputId": "943fc62a-8e27-4f03-d250-8d04f8aae201"
      },
      "source": [
        "with open('artigos.txt', 'r') as f:\n",
        "  artigos = f.read()\n",
        "\n",
        "print(artigos[:500])"
      ],
      "execution_count": 15,
      "outputs": [
        {
          "output_type": "stream",
          "name": "stdout",
          "text": [
            "\n",
            "\n",
            "\n",
            "imagem \n",
            "\n",
            "Temos a seguinte classe que representa um usuário no nosso sistema:\n",
            "\n",
            "java\n",
            "\n",
            "Para salvar um novo usuário, várias validações são feitas, como por exemplo: Ver se o nome só contém letras, [**o CPF só números**] e ver se o usuário possui no mínimo 18 anos. Veja o método que faz essa validação:\n",
            "\n",
            "java \n",
            "\n",
            "Suponha agora que eu tenha outra classe, a classe `Produto`, que contém um atributo nome e eu quero fazer a mesma validação que fiz para o nome do usuário: Ver se só contém letras. E aí? Vou\n"
          ]
        }
      ]
    },
    {
      "cell_type": "markdown",
      "metadata": {
        "id": "Sph_FqBJZm-3"
      },
      "source": [
        "# Tokens\n",
        "\n",
        "Os **tokens** são uma sequência de caracteres (podem conter letras, números, pontuações, etc) separados por um limitador, que pode ser tanto um espaço em branco, como uma quebra de linha ou determinada pontuação).\n",
        "\n",
        "**Tozenização** é um processo que divide strings em partes menores."
      ]
    },
    {
      "cell_type": "code",
      "metadata": {
        "id": "GAlLvXkcE7sW",
        "colab": {
          "base_uri": "https://localhost:8080/"
        },
        "outputId": "80d70343-4ec4-4bd3-8adb-1482a8c796a0"
      },
      "source": [
        "tokens = artigos.split()\n",
        "print(f'Quantidade de tokens: {len(tokens)}')"
      ],
      "execution_count": 16,
      "outputs": [
        {
          "output_type": "stream",
          "name": "stdout",
          "text": [
            "Quantidade de tokens: 416903\n"
          ]
        }
      ]
    },
    {
      "cell_type": "code",
      "metadata": {
        "id": "xzxg5RmMa5tz"
      },
      "source": [
        "tokens_2 = nltk.tokenize.word_tokenize(artigos)"
      ],
      "execution_count": 17,
      "outputs": []
    },
    {
      "cell_type": "code",
      "metadata": {
        "colab": {
          "base_uri": "https://localhost:8080/"
        },
        "id": "Ufvn8v9Pc5p2",
        "outputId": "687a18f4-e916-4c61-c675-e71fc6f04e38"
      },
      "source": [
        "print(tokens_2[:50])"
      ],
      "execution_count": 18,
      "outputs": [
        {
          "output_type": "stream",
          "name": "stdout",
          "text": [
            "['imagem', 'Temos', 'a', 'seguinte', 'classe', 'que', 'representa', 'um', 'usuário', 'no', 'nosso', 'sistema', ':', 'java', 'Para', 'salvar', 'um', 'novo', 'usuário', ',', 'várias', 'validações', 'são', 'feitas', ',', 'como', 'por', 'exemplo', ':', 'Ver', 'se', 'o', 'nome', 'só', 'contém', 'letras', ',', '[', '**o', 'CPF', 'só', 'números**', ']', 'e', 'ver', 'se', 'o', 'usuário', 'possui', 'no']\n"
          ]
        }
      ]
    },
    {
      "cell_type": "code",
      "metadata": {
        "colab": {
          "base_uri": "https://localhost:8080/"
        },
        "id": "HNHvUuJZdrwG",
        "outputId": "5668d6d7-e070-4538-a1cb-6f6b72d16cc3"
      },
      "source": [
        "def separa_palavras(lista_tokens):\n",
        "  lista_palavras = []\n",
        "\n",
        "  for item in lista_tokens:\n",
        "    if item.isalpha():\n",
        "      lista_palavras.append(item)\n",
        "\n",
        "  return lista_palavras    \n",
        "\n",
        "palavras = separa_palavras(tokens_2)\n",
        "print(f'Total de palavras: {len(palavras)}')"
      ],
      "execution_count": 19,
      "outputs": [
        {
          "output_type": "stream",
          "name": "stdout",
          "text": [
            "Total de palavras: 393914\n"
          ]
        }
      ]
    },
    {
      "cell_type": "markdown",
      "metadata": {
        "id": "ouJha4SMhdcE"
      },
      "source": [
        "# Normalização e Tipos de Palavras"
      ]
    },
    {
      "cell_type": "code",
      "metadata": {
        "colab": {
          "base_uri": "https://localhost:8080/"
        },
        "id": "vC9UlJEMgE9j",
        "outputId": "7526b660-18f6-4a92-aec7-07604ced69e5"
      },
      "source": [
        "def normaliza_palavras(lista):\n",
        "  lista_normalizada = []\n",
        "\n",
        "  for item in lista:\n",
        "    lista_normalizada.append(item.lower())\n",
        "\n",
        "  return lista_normalizada\n",
        "\n",
        "lista_normalizada = normaliza_palavras(palavras)\n",
        "print(lista_normalizada[:10])"
      ],
      "execution_count": 20,
      "outputs": [
        {
          "output_type": "stream",
          "name": "stdout",
          "text": [
            "['imagem', 'temos', 'a', 'seguinte', 'classe', 'que', 'representa', 'um', 'usuário', 'no']\n"
          ]
        }
      ]
    },
    {
      "cell_type": "code",
      "metadata": {
        "id": "tfXmW-f8ih5o",
        "colab": {
          "base_uri": "https://localhost:8080/"
        },
        "outputId": "9bd41a0b-a3b3-43a2-f8b4-70cda4776ec8"
      },
      "source": [
        "total_palavras = set(lista_normalizada)\n",
        "print(f'Total de palavras diferentes: {len(total_palavras)}.')"
      ],
      "execution_count": 21,
      "outputs": [
        {
          "output_type": "stream",
          "name": "stdout",
          "text": [
            "Total de palavras diferentes: 17652.\n"
          ]
        }
      ]
    },
    {
      "cell_type": "markdown",
      "metadata": {
        "id": "uXizU4gLEMuj"
      },
      "source": [
        "# Desenvolvendo o Corretor II"
      ]
    },
    {
      "cell_type": "code",
      "metadata": {
        "id": "17ND_CyujupB"
      },
      "source": [
        "# função que insere as possíveis palavras\n",
        "def insere_palavras(slices):\n",
        "\n",
        "  novas_palavras = []\n",
        "  conjunto_letras = 'abcdefghijklmnopqrstuvwxyzàáâãèéêìíîòóôõùúûç'\n",
        "\n",
        "  for left, right in slices:\n",
        "    for l in conjunto_letras:\n",
        "      novas_palavras.append(left + l + right)\n",
        "  \n",
        "  return novas_palavras\n",
        "\n",
        "# função que constrói os trechos de uma palvra\n",
        "def gerador_palavras(palavra):\n",
        "\n",
        "  letras = []\n",
        "\n",
        "  for i in range(len(palavra) + 1):\n",
        "    letras.append(((palavra[:i]), (palavra[i:])))\n",
        "\n",
        "  palavras_geradas = insere_palavras(letras)\n",
        "  return palavras_geradas"
      ],
      "execution_count": 29,
      "outputs": []
    },
    {
      "cell_type": "code",
      "metadata": {
        "id": "uDJ1ch_hH1ew"
      },
      "source": [
        "# função que atua como corretor ortográfico\n",
        "def corretor(palavra):\n",
        "  palavras_geradas = gerador_palavras(palavra)\n",
        "  palavra_correta = max(palavras_geradas, key=propabilidade)\n",
        "  return palavra_correta\n",
        "\n",
        "\n",
        "freq = nltk.FreqDist(lista_normalizada)\n",
        "total_palavras = len(palavras)\n",
        "\n",
        "def propabilidade(palavra_gerada):\n",
        "  probabilidade = freq[palavra_gerada]/total_palavras\n",
        "  return probabilidade"
      ],
      "execution_count": 23,
      "outputs": []
    },
    {
      "cell_type": "markdown",
      "metadata": {
        "id": "JUNrXEdTDpW3"
      },
      "source": [
        "## Avaliando o Corretor I"
      ]
    },
    {
      "cell_type": "code",
      "metadata": {
        "id": "DJ4oRsTbP0Pi"
      },
      "source": [
        "# Função que cria uma lista com palavras-exemplo\n",
        "def cria_testes(arquivo):\n",
        "  lista_teste = []\n",
        "  f = open(arquivo, \"r\")\n",
        "\n",
        "  for linha in f:\n",
        "    correta, incorreta = linha.split()\n",
        "    lista_teste.append((correta, incorreta))\n",
        "  f.close()\n",
        "\n",
        "  return lista_teste\n",
        "\n",
        "lista_teste = cria_testes(\"palavras.txt\")"
      ],
      "execution_count": 24,
      "outputs": []
    },
    {
      "cell_type": "code",
      "metadata": {
        "id": "KqFXegIZEUEC",
        "colab": {
          "base_uri": "https://localhost:8080/"
        },
        "outputId": "a7d242e0-4ec4-4752-f158-f120c54d351a"
      },
      "source": [
        "# função que retorna a taxa de acertos do corretor\n",
        "def avalia_corretor(testes):\n",
        "  total_palavras = len(testes)\n",
        "  acertou = 0\n",
        "\n",
        "  # corrige a palavra incorreta\n",
        "  for correta, incorreta in testes:\n",
        "    palavra_corrigida = corretor(incorreta)\n",
        "    if (palavra_corrigida == correta):\n",
        "      acertou += 1\n",
        "\n",
        "  taxa_de_acerto = round((acertou * 100) / total_palavras, 2)\n",
        "  \n",
        "  print(f'Taxa de acerto de {taxa_de_acerto}% em {total_palavras} palavras-teste.')\n",
        "  \n",
        "avalia_corretor(lista_teste)"
      ],
      "execution_count": 28,
      "outputs": [
        {
          "output_type": "stream",
          "name": "stdout",
          "text": [
            "Taxa de acerto de 1.08% em 186 palavras-teste.\n"
          ]
        }
      ]
    },
    {
      "cell_type": "markdown",
      "metadata": {
        "id": "CD5m9196zReG"
      },
      "source": [
        "# Desenvolvendo o Corretor II"
      ]
    },
    {
      "cell_type": "code",
      "metadata": {
        "id": "YlEJMRHxzWS-"
      },
      "source": [
        "#função que configura a palavra incorreta para correta deletando caracteres\n",
        "def deleta_caracteres(slices):\n",
        "  novas_palavras = []\n",
        "\n",
        "  for left, right in slices:\n",
        "    novas_palavras.append(left + right[1:])\n",
        "  \n",
        "  return novas_palavras\n",
        "\n",
        "#implementando a função que gera palavras\n",
        "def gerador_palavras(palavra):\n",
        "\n",
        "  slices = []\n",
        "\n",
        "  for i in range(len(palavra) + 1):\n",
        "    slices.append(((palavra[:i]), (palavra[i:])))\n",
        "\n",
        "  palavras_geradas = insere_palavras(slices)\n",
        "  palavras_geradas += deleta_caracteres(slices)\n",
        "  return palavras_geradas"
      ],
      "execution_count": 34,
      "outputs": []
    },
    {
      "cell_type": "markdown",
      "metadata": {
        "id": "TtAfp_mc1pHL"
      },
      "source": [
        "## Avaliando Corretor II"
      ]
    },
    {
      "cell_type": "code",
      "metadata": {
        "id": "7tyfK_O71oS1",
        "outputId": "45d2fc85-577c-4066-b464-ed0ae23f2c71",
        "colab": {
          "base_uri": "https://localhost:8080/"
        }
      },
      "source": [
        "avalia_corretor(lista_teste)"
      ],
      "execution_count": 35,
      "outputs": [
        {
          "output_type": "stream",
          "name": "stdout",
          "text": [
            "Taxa de acerto de 41.4% em 186 palavras-teste.\n"
          ]
        }
      ]
    }
  ]
}